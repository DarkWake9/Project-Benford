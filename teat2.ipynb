{
 "cells": [
  {
   "cell_type": "code",
   "execution_count": 1,
   "metadata": {},
   "outputs": [],
   "source": [
    "import numpy as np\n",
    "from numba import cuda\n",
    "import matplotlib.pyplot as plt\n",
    "import scipy.stats as sct\n",
    "import multiprocessing as mul\n",
    "# import numba as nb"
   ]
  },
  {
   "cell_type": "code",
   "execution_count": 2,
   "metadata": {},
   "outputs": [
    {
     "data": {
      "image/png": "[encoded data removed]",
      "text/plain": [
       "<Figure size 432x288 with 1 Axes>"
      ]
     },
     "metadata": {
      "needs_background": "light"
     },
     "output_type": "display_data"
    }
   ],
   "source": [
    "# @cuda.jit\n",
    "def outer_product(arr):\n",
    "    prod = np.outer(arr, arr)\n",
    "    return prod\n",
    "\n",
    "\n",
    "sizer = 1000\n",
    "# arr = np.random.lognormal(2, 3, (sizer, 1000))\n",
    "arr = np.random.normal(2, 3, (sizer, 1000)) #DOES NOT FOLLOW BENFORD'S LAW\n",
    "# arr = np.random.uniform(2, 3, (sizer, 100)) #DOES NOT FOLLOW BENFORD'S LAW\n",
    "# arr= np.random.randint(1, 1000, (sizer, 1000)) #DOES NOT FOLLOW BENFORD'S LAW\n",
    "# arr = np.random.exponential(2, (sizer, 1000)) #FOLLOWS BENFORD'S LAW\n",
    "# arr = np.random.lognormal(2, 3, (sizer, 1000)) #FOLLOWS BENFORD'S LAW\n",
    "# arr = np.random.poisson(2, (sizer, 1000)) #FOLLOWS BENFORD'S LAW\n",
    "pool = mul.Pool(12)\n",
    "op_async = pool.map_async(outer_product, arr)\n",
    "arr_all = np.ravel(op_async.get())\n",
    "\n",
    "\n",
    "# plt.hist(kst_all)\n",
    "# plt.hist(ksp_all)\n",
    "\n",
    "plt.hist(arr_all)\n",
    "plt.show()\n"
   ]
  },
  {
   "cell_type": "code",
   "execution_count": null,
   "metadata": {},
   "outputs": [],
   "source": [
    "# kst_all = []\n",
    "# ksp_all = []\n",
    "# arr_all = []\n",
    "# for i in range(100):\n",
    "#     #arr = np.random.normal(2, 3, 1000) #DOES NOT FOLLOW BENFORD'S LAW\n",
    "#     # arr = np.random.uniform(2, 3, 1000) #DOES NOT FOLLOW BENFORD'S LAW\n",
    "#     # arr= np.random.randint(1, 1000, 1000) #DOES NOT FOLLOW BENFORD'S LAW\n",
    "#     # arr = np.random.exponential(2, 1000) #FOLLOWS BENFORD'S LAW\n",
    "#     arr = np.random.lognormal(2, 3, 1000) #FOLLOWS BENFORD'S LAW\n",
    "#     # arr = np.random.poisson(2, 1000) #FOLLOWS BENFORD'S LAW\n",
    "\n",
    "#     prod = np.outer(arr, arr)\n",
    "#     prod.shape\n",
    "#     # def benford_law_test(arr, ndigits=10):\n",
    "#     #     a = np.zeros(ndigits)\n",
    "#     #     for i in arr:\n",
    "#     #         a[int(str(i).replace('0.', '').replace('-', '')[0])] += 1\n",
    "\n",
    "#     #     return a[1:]/np.sum(a)\n",
    "\n",
    "#     # def ideal_benford_law(ndigits=10):\n",
    "#     #     return np.log(1 + 1/np.arange(1, ndigits))/np.log(ndigits)\n",
    "#     # ideal_ben = ideal_benford_law(10)\n",
    "#     # bentest = benford_law_test(np.ravel(prod), 10)\n",
    "#     # kst, ksp = sct.ks_2samp(bentest, ideal_ben)\n",
    "#     # kst_all.append(kst)\n",
    "#     # ksp_all.append(ksp)\n",
    "#     arr_all.append(np.ravel(prod))"
   ]
  }
 ],
 "metadata": {
  "kernelspec": {
   "display_name": "Python 3",
   "language": "python",
   "name": "python3"
  },
  "language_info": {
   "codemirror_mode": {
    "name": "ipython",
    "version": 3
   },
   "file_extension": ".py",
   "mimetype": "text/x-python",
   "name": "python",
   "nbconvert_exporter": "python",
   "pygments_lexer": "ipython3",
   "version": "3.10.6"
  },
  "orig_nbformat": 4
 },
 "nbformat": 4,
 "nbformat_minor": 2
}

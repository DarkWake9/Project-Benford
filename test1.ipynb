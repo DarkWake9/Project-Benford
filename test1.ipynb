{
 "cells": [
  {
   "cell_type": "code",
   "execution_count": 1,
   "metadata": {},
   "outputs": [],
   "source": [
    "import numpy as np\n",
    "import matplotlib.pyplot as plt"
   ]
  },
  {
   "cell_type": "code",
   "execution_count": null,
   "metadata": {},
   "outputs": [],
   "source": []
  },
  {
   "cell_type": "code",
   "execution_count": 2,
   "metadata": {},
   "outputs": [],
   "source": [
    "#arr = np.random.normal(2, 3, 1000) #DOES NOT FOLLOW BENFORD'S LAW\n",
    "#arr = np.random.uniform(2, 3, 1000) #DOES NOT FOLLOW BENFORD'S LAW\n",
    "#arr= np.random.randint(1, 1000, 1000) #DOES NOT FOLLOW BENFORD'S LAW\n",
    "# arr = np.random.exponential(2, 1000) #FOLLOWS BENFORD'S LAW\n",
    "# arr = np.random.lognormal(2, 3, 1000) #FOLLOWS BENFORD'S LAW\n",
    "arr = np.random.poisson(2, 1000) #FOLLOWS BENFORD'S LAW\n"
   ]
  },
  {
   "cell_type": "code",
   "execution_count": 3,
   "metadata": {},
   "outputs": [],
   "source": [
    "ndigits = 10\n",
    "p_ndigits = np.log(1 + 1/np.arange(1, ndigits))/np.log(ndigits)\n",
    "a = np.zeros(ndigits)\n",
    "for i in arr:\n",
    "    a[int(str(i).replace('0.', '').replace('-', '')[0])] += 1"
   ]
  },
  {
   "cell_type": "markdown",
   "metadata": {},
   "source": [
    "a = [a[(i+1)%ndigits]/ndigits for i in range(ndigits)]"
   ]
  },
  {
   "cell_type": "code",
   "execution_count": 4,
   "metadata": {},
   "outputs": [
    {
     "data": {
      "image/png": "[encoded data removed]",
      "text/plain": [
       "<Figure size 720x576 with 1 Axes>"
      ]
     },
     "metadata": {
      "needs_background": "light"
     },
     "output_type": "display_data"
    }
   ],
   "source": [
    "plt.figure(figsize=(10, 8))\n",
    "plt.bar(range(1, ndigits), a[1:]/np.sum(a), width=1)\n",
    "plt.stem(range(1, ndigits), p_ndigits, linefmt='r-', markerfmt='ro', basefmt='r-')\n",
    "plt.xticks(range(1, ndigits))\n",
    "plt.show()"
   ]
  },
  {
   "cell_type": "code",
   "execution_count": 5,
   "metadata": {},
   "outputs": [
    {
     "data": {
      "text/plain": [
       "array([127., 287., 258., 189.,  95.,  30.,  12.,   1.,   1.,   0.])"
      ]
     },
     "execution_count": 5,
     "metadata": {},
     "output_type": "execute_result"
    }
   ],
   "source": [
    "a"
   ]
  },
  {
   "cell_type": "code",
   "execution_count": 6,
   "metadata": {},
   "outputs": [],
   "source": [
    "def benford_law_test(arr, ndigits=10):\n",
    "    a = np.zeros(ndigits)\n",
    "    for i in arr:\n",
    "        a[int(str(i).replace('0.', '').replace('-', '')[0])] += 1\n",
    "\n",
    "    return a[1:]/np.sum(a)\n",
    "\n",
    "def ideal_benford_law(ndigits=10):\n",
    "    return np.log(1 + 1/np.arange(1, ndigits))/np.log(ndigits)"
   ]
  },
  {
   "cell_type": "code",
   "execution_count": 12,
   "metadata": {},
   "outputs": [],
   "source": [
    "all_a = []\n",
    "for i in range(1000):\n",
    "    arr = np.random.normal(2, 3, 1000)\n",
    "    all_a.append(benford_law_test(arr)[1])\n",
    "    #assert np.allclose(a, b, atol=0.05)"
   ]
  },
  {
   "cell_type": "code",
   "execution_count": 13,
   "metadata": {},
   "outputs": [],
   "source": [
    "all_a = np.asarray(all_a)"
   ]
  },
  {
   "cell_type": "code",
   "execution_count": 14,
   "metadata": {},
   "outputs": [
    {
     "data": {
      "text/plain": [
       "(array([  6.,  48., 138., 237., 265., 186.,  88.,  24.,   6.,   2.]),\n",
       " array([0.158 , 0.1667, 0.1754, 0.1841, 0.1928, 0.2015, 0.2102, 0.2189,\n",
       "        0.2276, 0.2363, 0.245 ]),\n",
       " <BarContainer object of 10 artists>)"
      ]
     },
     "execution_count": 14,
     "metadata": {},
     "output_type": "execute_result"
    },
    {
     "data": {
      "image/png": "[encoded data removed]",
      "text/plain": [
       "<Figure size 432x288 with 1 Axes>"
      ]
     },
     "metadata": {
      "needs_background": "light"
     },
     "output_type": "display_data"
    }
   ],
   "source": [
    "plt.hist(all_a, bins=10)"
   ]
  },
  {
   "cell_type": "code",
   "execution_count": null,
   "metadata": {},
   "outputs": [],
   "source": []
  }
 ],
 "metadata": {
  "kernelspec": {
   "display_name": "Python 3",
   "language": "python",
   "name": "python3"
  },
  "language_info": {
   "codemirror_mode": {
    "name": "ipython",
    "version": 3
   },
   "file_extension": ".py",
   "mimetype": "text/x-python",
   "name": "python",
   "nbconvert_exporter": "python",
   "pygments_lexer": "ipython3",
   "version": "3.10.6"
  },
  "orig_nbformat": 4
 },
 "nbformat": 4,
 "nbformat_minor": 2
}
